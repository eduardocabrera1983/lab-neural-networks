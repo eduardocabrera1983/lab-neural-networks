{
 "cells": [
  {
   "cell_type": "markdown",
   "id": "8f345ca9",
   "metadata": {},
   "source": [
    "Epoch: 2,242\n",
    "Learning rate: 0.03\n",
    "Activation function: Sigmoid\n",
    "Features: X₁, X₂, X₁², X₂², X₁X₂, sin(X₁), sin(X₂) (all 7 features)\n",
    "Hidden layers: 3 layers with [4, 5, 5] neurons\n",
    "Test loss: 0.023 ✅\n",
    "Training loss: 0.010 ✅"
   ]
  },
  {
   "cell_type": "code",
   "execution_count": null,
   "id": "1b706c17",
   "metadata": {
    "vscode": {
     "languageId": "plaintext"
    }
   },
   "outputs": [],
   "source": []
  }
 ],
 "metadata": {
  "language_info": {
   "name": "python"
  }
 },
 "nbformat": 4,
 "nbformat_minor": 5
}
